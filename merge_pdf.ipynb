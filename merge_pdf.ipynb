
import os
from PyPDF2 import PdfReader, PdfWriter

def read_pdf(file_path):
    with open(file_path, 'rb') as file:
        pdf_reader = PdfReader(file)
        text = ""
        for page_num in range(len(pdf_reader.pages)):
            page = pdf_reader.pages[page_num]
            text += page.extract_text()
    return text

def merge_pdfs_and_save(input_folder, output_path):
    merger = PdfWriter()

    pdf_files = [file for file in os.listdir(input_folder) if file.endswith('.pdf')]
    for pdf_file in pdf_files:
        file_path = os.path.join(input_folder, pdf_file)
        merger.append(PdfReader(file_path))

    with open(output_path, 'wb') as output_file:
        merger.write(output_file)

    print(f"Merged PDFs saved to {output_path}")

# Replace 'input_folder' with the path to the folder containing your PDF files
input_folder = '1_comprovantes_pgto/teste'
# Replace 'output_path' with the desired path for the
#merged PDF file
output_path = "/home/utils/result.pdf"

merge_pdfs_and_save(input_folder, output_path)
